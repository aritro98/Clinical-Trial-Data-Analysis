{
 "cells": [
  {
   "cell_type": "markdown",
   "metadata": {
    "id": "IZbpioxPVDPI"
   },
   "source": [
    "## Data Preparation"
   ]
  },
  {
   "cell_type": "markdown",
   "metadata": {
    "id": "TQuqSKu_VDPI"
   },
   "source": [
    "### Loading and Cleaning Data\n",
    "\n",
    "The data sets were loaded using pandas, and the initial cleaning steps involved addressing missing values, eliminating duplicate entries, and converting date columns to the appropriate formats."
   ]
  },
  {
   "cell_type": "code",
   "execution_count": null,
   "metadata": {
    "id": "Ru8NK4dOVDPJ",
    "outputId": "16179e7d-9804-496e-e17e-2efa932329e2"
   },
   "outputs": [],
   "source": [
    "import pandas as pd\n",
    "from IPython.display import display, Markdown\n",
    "from tabulate import tabulate\n",
    "ct2021=\"C:\\\\Users\\\\KIIT\\\\Documents\\\\git\\\\Clinical-Trial-Data-Analysis\\\\data\\\\clinicaltrial_2021.csv\"\n",
    "mesh=\"C:\\\\Users\\\\KIIT\\\\Documents\\\\git\\\\Clinical-Trial-Data-Analysis\\\\data\\\\mesh.csv\"\n",
    "pharma=\"C:\\\\Users\\\\KIIT\\\\Documents\\\\git\\\\Clinical-Trial-Data-Analysis\\\\data\\\\pharma.csv\"\n",
    "df1=pd.read_csv(ct2021,sep='|',encoding='latin1',on_bad_lines='skip')\n",
    "d2=pd.read_csv(mesh)\n",
    "d3=pd.read_csv(pharma)\n",
    "df1.fillna('',inplace=True)\n",
    "df1['Interventions']=df1['Interventions'].str.replace(r',+','',regex=True)"
   ]
  },
  {
   "cell_type": "markdown",
   "metadata": {
    "id": "ozLjML9VVDPM"
   },
   "source": [
    "## Initial Data Overview"
   ]
  },
  {
   "cell_type": "markdown",
   "metadata": {
    "id": "z5GsdcZOVDPN"
   },
   "source": [
    "Here are the first few rows of clinicaltrial_2021 dataset to provide an overview:"
   ]
  },
  {
   "cell_type": "code",
   "execution_count": 29,
   "metadata": {
    "id": "2tLDDxz9VDPN",
    "outputId": "8d4730d9-b4ae-40b2-c8a9-b8d4bda65070"
   },
   "outputs": [
    {
     "name": "stdout",
     "output_type": "stream",
     "text": [
      "clinicaltrial_2021 data\n"
     ]
    },
    {
     "data": {
      "text/markdown": [
       "| Id          | Sponsor                     | Status     | Start    | Completion   | Type           | Submission   | Conditions                                 | Interventions   |\n",
       "|:------------|:----------------------------|:-----------|:---------|:-------------|:---------------|:-------------|:-------------------------------------------|:----------------|\n",
       "| NCT02758028 | The University of Hong Kong | Recruiting | Aug 2005 | Nov 2021     | Interventional | Apr 2016     |                                            |                 |\n",
       "| NCT02751957 | Duke University             | Completed  | Jul 2016 | Jul 2020     | Interventional | Apr 2016     | Autistic Disorder,Autism Spectrum Disorder |                 |"
      ],
      "text/plain": [
       "<IPython.core.display.Markdown object>"
      ]
     },
     "metadata": {},
     "output_type": "display_data"
    }
   ],
   "source": [
    "from tabulate import tabulate\n",
    "print(\"clinicaltrial_2021 data\")\n",
    "t1=tabulate(df1.head(2),headers='keys',tablefmt='pipe',showindex=False)\n",
    "display(Markdown(t1))"
   ]
  },
  {
   "cell_type": "markdown",
   "metadata": {
    "id": "i1Vmoh1FVDPO"
   },
   "source": [
    "Here are the first few rows of mesh dataset to provide an overview:"
   ]
  },
  {
   "cell_type": "code",
   "execution_count": 30,
   "metadata": {
    "id": "NO3o3pv0VDPO",
    "outputId": "7d8d34a1-20de-4001-b771-52360cd3409a"
   },
   "outputs": [
    {
     "name": "stdout",
     "output_type": "stream",
     "text": [
      "mesh data\n"
     ]
    },
    {
     "data": {
      "text/markdown": [
       "| term       | tree                |\n",
       "|:-----------|:--------------------|\n",
       "| Calcimycin | D03.633.100.221.173 |\n",
       "| A-23187    | D03.633.100.221.173 |"
      ],
      "text/plain": [
       "<IPython.core.display.Markdown object>"
      ]
     },
     "metadata": {},
     "output_type": "display_data"
    }
   ],
   "source": [
    "from tabulate import tabulate\n",
    "print(\"mesh data\")\n",
    "t2=tabulate(d2.head(2),headers='keys',tablefmt='pipe',showindex=False)\n",
    "display(Markdown(t2))"
   ]
  },
  {
   "cell_type": "markdown",
   "metadata": {
    "id": "meZiqfShVDPP"
   },
   "source": [
    "Here are the first few rows of pharma dataset to provide an overview:"
   ]
  },
  {
   "cell_type": "code",
   "execution_count": 31,
   "metadata": {
    "id": "PUK0SVo-VDPP",
    "outputId": "33c03a86-7d50-4726-8487-5f9ab94bee5f"
   },
   "outputs": [
    {
     "name": "stdout",
     "output_type": "stream",
     "text": [
      "pharma data\n"
     ]
    },
    {
     "data": {
      "text/markdown": [
       "| Company                  | Parent_Company      | Penalty_Amount   | Subtraction_From_Penalty   | Penalty_Amount_Adjusted_For_Eliminating_Multiple_Counting   |   Penalty_Year |   Penalty_Date | Offense_Group                           | Primary_Offense                                       | Secondary_Offense     | Description                                                                                                                                                                                                                                                                                                                                                                                                                                                                                                                                                                                                                                                          | Level_of_Government   | Action_Type   | Agency                                                          | Civil/Criminal     |   Prosecution_Agreement |   Court |   Case_ID |   Private_Litigation_Case_Title |   Lawsuit_Resolution |   Facility_State |   City |   Address |   Zip |   NAICS_Code |   NAICS_Translation | HQ_Country_of_Parent   | HQ_State_of_Parent   | Ownership_Structure   | Parent_Company_Stock_Ticker   | Major_Industry_of_Parent   | Specific_Industry_of_Parent   | Info_Source                                                                                                             |   Notes |\n",
       "|:-------------------------|:--------------------|:-----------------|:---------------------------|:------------------------------------------------------------|---------------:|---------------:|:----------------------------------------|:------------------------------------------------------|:----------------------|:---------------------------------------------------------------------------------------------------------------------------------------------------------------------------------------------------------------------------------------------------------------------------------------------------------------------------------------------------------------------------------------------------------------------------------------------------------------------------------------------------------------------------------------------------------------------------------------------------------------------------------------------------------------------|:----------------------|:--------------|:----------------------------------------------------------------|:-------------------|------------------------:|--------:|----------:|--------------------------------:|---------------------:|-----------------:|-------:|----------:|------:|-------------:|--------------------:|:-----------------------|:---------------------|:----------------------|:------------------------------|:---------------------------|:------------------------------|:------------------------------------------------------------------------------------------------------------------------|--------:|\n",
       "| Abbott Laboratories      | Abbott Laboratories | $5,475,000       | $0                         | $5,475,000                                                  |           2013 |       20131227 | government-contracting-related offenses | False Claims Act and related                          | kickbacks and bribery | Abbott Laboratories agreed to $5.475 million to resolve allegations that it violated the False Claims Act by paying kickbacks to induce doctors to implant the company's carotid, biliary and peripheral vascular products.                                                                                                                                                                                                                                                                                                                                                                                                                                          | federal               | agency action | Justice Department Civil Division                               | civil              |                     nan |     nan |       nan |                             nan |                  nan |              nan |    nan |       nan |   nan |          nan |                 nan | USA                    | Illinois             | publicly traded       | ABT                           | pharmaceuticals            | pharmaceuticals               | https://www.justice.gov/opa/pr/abbott-laboratories-pays-us-5475-million-settle-claims-company-paid-kickbacks-physicians |     nan |\n",
       "| Abbott Laboratories Inc. | AbbVie              | $1,500,000,000   | $0                         | $1,500,000,000                                              |           2012 |       20120507 | healthcare-related offenses             | off-label or unapproved promotion of medical products | nan                   | Global Health Care Company Abbott Laboratories Inc. has pleaded guilty and agreed to pay $1.5 billion to resolve its criminal and civil liability arising from the company's unlawful promotion of the prescription drug Depakote for uses not approved as safe and effective by the Food and Drug Administration. The resolution - the second largest payment by a drug company - includes a criminal fine and forfeiture totaling $700 million and civil settlements with the federal government and the states totaling $800 million. Abbott also will be subject to court-supervised probation and reporting obligations for Abbotts CEO and Board of Directors. | federal               | agency action | Food and Drug Administration referral to the Justice Department | civil and criminal |                     nan |     nan |       nan |                             nan |                  nan |              nan |    nan |       nan |   nan |          nan |                 nan | USA                    | Illinois             | publicly traded       | ABBV                          | pharmaceuticals            | pharmaceuticals               | http://www.justice.gov/opa/pr/abbott-labs-pay-15-billion-resolve-criminal-civil-investigations-label-promotion-depakote |     nan |"
      ],
      "text/plain": [
       "<IPython.core.display.Markdown object>"
      ]
     },
     "metadata": {},
     "output_type": "display_data"
    }
   ],
   "source": [
    "from tabulate import tabulate\n",
    "print(\"pharma data\")\n",
    "t3=tabulate(d3.head(2),headers='keys',tablefmt='pipe',showindex=False)\n",
    "display(Markdown(t3))"
   ]
  },
  {
   "cell_type": "markdown",
   "metadata": {
    "id": "niRPXHPXVDPQ"
   },
   "source": [
    "## Data Preparation Overview"
   ]
  },
  {
   "cell_type": "markdown",
   "metadata": {
    "id": "GWbqylIiVDPQ"
   },
   "source": [
    "### Data Cleaning and Standardization\n",
    "\n",
    "Inorder to maintain data integrity, duplicates were removed from all datasets. Additionally, date columns were converted to datetime format (Start and Completion), allowing for accurate temporal analysis.\n",
    "\n",
    "### Initial Data Presentation\n",
    "\n",
    "The first two entries of each dataset were presented in markdown tables , facilitating a clear overview of the dataset structure."
   ]
  },
  {
   "cell_type": "code",
   "execution_count": 32,
   "metadata": {
    "id": "TMoovVJcVDPQ",
    "outputId": "6703e25a-79b7-4c86-d4bc-961b376f64b7"
   },
   "outputs": [
    {
     "name": "stderr",
     "output_type": "stream",
     "text": [
      "C:\\Users\\KIIT\\AppData\\Local\\Temp\\ipykernel_23932\\1839000340.py:4: UserWarning: Could not infer format, so each element will be parsed individually, falling back to `dateutil`. To ensure parsing is consistent and as-expected, please specify a format.\n",
      "  df1['Start']=pd.to_datetime(df1['Start'],errors='coerce')\n",
      "C:\\Users\\KIIT\\AppData\\Local\\Temp\\ipykernel_23932\\1839000340.py:5: UserWarning: Could not infer format, so each element will be parsed individually, falling back to `dateutil`. To ensure parsing is consistent and as-expected, please specify a format.\n",
      "  df1['Completion']=pd.to_datetime(df1['Completion'],errors='coerce')\n"
     ]
    }
   ],
   "source": [
    "df1.drop_duplicates(inplace=True)\n",
    "d2.drop_duplicates(inplace=True)\n",
    "d3.drop_duplicates(inplace=True)\n",
    "df1['Start']=pd.to_datetime(df1['Start'],errors='coerce')\n",
    "df1['Completion']=pd.to_datetime(df1['Completion'],errors='coerce')\n",
    "t1=tabulate(df1.head(2),headers='keys',tablefmt='pipe',showindex=False)\n",
    "t2=tabulate(d2.head(2),headers='keys',tablefmt='pipe',showindex=False)\n",
    "t3=tabulate(d3.head(2),headers='keys',tablefmt='pipe',showindex=False)"
   ]
  },
  {
   "cell_type": "markdown",
   "metadata": {
    "id": "Uq5zMJQRVDPR"
   },
   "source": [
    "## Number of Distinct Studies Analysis\n",
    "\n",
    "### Clinical Trials Dataset (clinicaltrial_2021)\n",
    "\n",
    "The analysis focused on identifying the number of unique studies in the clinical trial dataset. By extracting unique identifiers, it was determined that there are 387,261 distinct studies in clinicaltrial_2021.\n",
    "\n",
    "### Medical Subject Headings (mesh)\n",
    "\n",
    "Similarly, the analysis extended to the medical subject headings dataset. It was found that there are 58,804 distinct terms in mesh.\n",
    "\n",
    "### Pharmaceutical Companies Dataset (pharma)\n",
    "\n",
    "Finally, the analysis included the dataset related to pharmaceutical companies. It revealed that there are 608 distinct studies in pharma."
   ]
  },
  {
   "cell_type": "code",
   "execution_count": 33,
   "metadata": {
    "id": "k1_t7awqVDPR",
    "outputId": "15b12780-aa21-44fc-e9f4-417b0f8cdcdd"
   },
   "outputs": [
    {
     "name": "stdout",
     "output_type": "stream",
     "text": [
      "Number of distinct studies in clinicaltrial_2021: 387261\n",
      "Number of distinct studies in mesh: 58804\n",
      "Number of distinct studies in pharma: 608\n"
     ]
    }
   ],
   "source": [
    "# The number of distinct studies in the dataset.\n",
    "numstu1=df1['Id'].nunique()\n",
    "print(f\"Number of distinct studies in clinicaltrial_2021: {numstu1}\")\n",
    "\n",
    "numstu2=d2['term'].nunique()\n",
    "print(f\"Number of distinct studies in mesh: {numstu2}\")\n",
    "\n",
    "numstu3=d3['Company'].nunique()\n",
    "print(f\"Number of distinct studies in pharma: {numstu3}\")"
   ]
  },
  {
   "cell_type": "markdown",
   "metadata": {
    "id": "Uewv6r8LVDPS"
   },
   "source": [
    "## Types of Studies Analysis\n",
    "\n",
    "### Clinical Trials Dataset (clinicaltrial_2021)\n",
    "\n",
    "The analysis revealed the different types of studies that were conducted within the clinical trial dataset. The frequency of each study type was computed and summarized as follows:"
   ]
  },
  {
   "cell_type": "code",
   "execution_count": 34,
   "metadata": {
    "id": "idzdeDcdVDPS",
    "outputId": "50c8e0a1-b258-41e2-8f51-ee4f184df385"
   },
   "outputs": [
    {
     "name": "stdout",
     "output_type": "stream",
     "text": [
      "For clinicaltrial_2021\n",
      "                               Type  Frequency\n",
      "0                    Interventional     301472\n",
      "1                     Observational      77540\n",
      "2  Observational [Patient Registry]       8180\n",
      "3                   Expanded Access         69\n"
     ]
    }
   ],
   "source": [
    "# The types of studies in the clinical trials dataset\n",
    "stutyp1=df1['Type'].value_counts().reset_index()\n",
    "stutyp1.columns=['Type','Frequency']\n",
    "print(\"For clinicaltrial_2021\")\n",
    "print(stutyp1)"
   ]
  },
  {
   "cell_type": "markdown",
   "metadata": {
    "id": "Zc1FVZRbVDPS"
   },
   "source": [
    "### Medical Subject Headings Dataset (mesh)\n",
    "\n",
    "The analysis was also performed on the medical subject headings dataset, where the frequency of each term type was determined:"
   ]
  },
  {
   "cell_type": "code",
   "execution_count": 35,
   "metadata": {
    "id": "bsqW3tV9VDPT",
    "outputId": "8bd1bd1c-4282-431e-a1e3-361536136d2d"
   },
   "outputs": [
    {
     "name": "stdout",
     "output_type": "stream",
     "text": [
      "For Mesh\n",
      "                                                    term  count\n",
      "0                                          WAGR Syndrome     20\n",
      "1                                     Wolfram Syndrome 1     16\n",
      "2      Endoscopic Ultrasound-Guided Fine Needle Aspir...     16\n",
      "3                                       Wolfram Syndrome     16\n",
      "4                                   Adrenoleukodystrophy     16\n",
      "...                                                  ...    ...\n",
      "58799                                      Abortion Rate      1\n",
      "58800                                Abortion Techniques      1\n",
      "58801                             Abortion, Drug-Induced      1\n",
      "58802                                  Previous Abortion      1\n",
      "58803                          Abortion, Saline-Solution      1\n",
      "\n",
      "[58804 rows x 2 columns]\n"
     ]
    }
   ],
   "source": [
    "# The types of studies in the mesh dataset\n",
    "stutyp2=d2['term'].value_counts().reset_index()\n",
    "stutyp1.columns=['term','Frequency']\n",
    "print(\"For Mesh\")\n",
    "print(stutyp2)"
   ]
  },
  {
   "cell_type": "markdown",
   "metadata": {
    "id": "cea2cPdaVDPT"
   },
   "source": [
    "### Pharmaceutical Companies Dataset (pharma)\n",
    "\n",
    "The analysis focused on examining the various types of actions taken by pharmaceutical companies within the dataset. The frequency of each action type was determined as follows:"
   ]
  },
  {
   "cell_type": "code",
   "execution_count": 36,
   "metadata": {
    "id": "I4VYDKqzVDPT",
    "outputId": "047d6fd1-c543-4bd4-b877-e3da5b1fa1b3"
   },
   "outputs": [
    {
     "name": "stdout",
     "output_type": "stream",
     "text": [
      "For Pharma\n",
      "          Action_Type  count\n",
      "0       agency action    937\n",
      "1  private litigation     31\n"
     ]
    }
   ],
   "source": [
    "# The types of studies in the pharma dataset\n",
    "stutyp3=d3['Action_Type'].value_counts().reset_index()\n",
    "stutyp1.columns=['Action_Type','Frequency']\n",
    "print(\"For Pharma\")\n",
    "print(stutyp3)"
   ]
  },
  {
   "cell_type": "markdown",
   "metadata": {
    "id": "7vOirACeVDPU"
   },
   "source": [
    "## Top Conditions Analysis\n",
    "\n",
    "### Clinical Trials Dataset (clinicaltrial_2021)\n",
    "\n",
    "The analysis aimed to identify the top five conditions studied within the clinical trials dataset. The frequencies of these conditions were determined as follows:"
   ]
  },
  {
   "cell_type": "code",
   "execution_count": 37,
   "metadata": {
    "id": "_SG7I-JWVDPU",
    "outputId": "fd2b670c-77cd-471b-a1cb-30f5b3f56f54"
   },
   "outputs": [
    {
     "name": "stdout",
     "output_type": "stream",
     "text": [
      "           Condition  Frequency\n",
      "0                         65131\n",
      "1          Carcinoma      13389\n",
      "2  Diabetes Mellitus      11080\n",
      "3          Neoplasms       9371\n",
      "4   Breast Neoplasms       8640\n"
     ]
    }
   ],
   "source": [
    "from collections import Counter\n",
    "conditions=df1['Conditions'].dropna().str.split(',').explode()\n",
    "tconditions=Counter(conditions).most_common(5)\n",
    "tconditionsdf=pd.DataFrame(tconditions,columns=['Condition','Frequency'])\n",
    "print(tconditionsdf)"
   ]
  },
  {
   "cell_type": "markdown",
   "metadata": {
    "id": "7LGDJI9sVDPV"
   },
   "source": [
    "## Top Roots Analysis\n",
    "\n",
    "### Clinical Trials Dataset (clinicaltrial_2021) & Medical Subject Headings Dataset (mesh)\n",
    "The analysis aimed to identify the top five most frequent roots within the merged dataset of clinical trials and medical subject headings. The frequencies of these roots were determined as follows:"
   ]
  },
  {
   "cell_type": "code",
   "execution_count": 38,
   "metadata": {
    "id": "gLzJL6aYVDPV",
    "outputId": "e7b78044-15f0-42b6-e1b5-0917ae07397b"
   },
   "outputs": [
    {
     "name": "stdout",
     "output_type": "stream",
     "text": [
      "  Root  Frequency\n",
      "0  C04     143994\n",
      "1  C23     136079\n",
      "2  C01     106674\n",
      "3  C14      94523\n",
      "4  C10      92310\n"
     ]
    }
   ],
   "source": [
    "conditions_exploded=df1['Conditions'].dropna().str.split(',').explode().reset_index()\n",
    "conditions_exploded.columns=['Index','Condition']\n",
    "\n",
    "merged_data=conditions_exploded.merge(d2,left_on='Condition',right_on='term',how='left')\n",
    "\n",
    "merged_data['Root']=merged_data['tree'].str.split('.').str[0]\n",
    "\n",
    "troots=merged_data['Root'].value_counts().head(5).reset_index()\n",
    "troots.columns=['Root','Frequency']\n",
    "print(troots)"
   ]
  },
  {
   "cell_type": "markdown",
   "metadata": {
    "id": "DdmujprqVDPW"
   },
   "source": [
    "## Top Non-Pharmaceutical Sponsors Analysis\n",
    "\n",
    "The analysis aimed to identify the top ten sponsors, excluding pharmaceutical companies, within the clinical trials dataset. The frequencies of these sponsors were determined as follows:"
   ]
  },
  {
   "cell_type": "code",
   "execution_count": 39,
   "metadata": {
    "id": "g3ROUOjpVDPW",
    "outputId": "b2115a3c-05a8-4a05-9f19-aafc374d4427"
   },
   "outputs": [
    {
     "name": "stdout",
     "output_type": "stream",
     "text": [
      "                                    Sponsor  Frequency\n",
      "0           National Cancer Institute (NCI)       3218\n",
      "1               M.D. Anderson Cancer Center       2414\n",
      "2  Assistance Publique - HÃ´pitaux de Paris       2369\n",
      "3                               Mayo Clinic       2300\n",
      "4                 Merck Sharp & Dohme Corp.       2243\n",
      "5                         Assiut University       2154\n",
      "6                  Novartis Pharmaceuticals       2088\n",
      "7            Massachusetts General Hospital       1971\n",
      "8                          Cairo University       1928\n",
      "9                         Hoffmann-La Roche       1828\n"
     ]
    }
   ],
   "source": [
    "pharma_companies=d3['Parent_Company'].unique()\n",
    "non_pharma_sponsors=df1[~df1['Sponsor'].isin(pharma_companies)]\n",
    "tnon_pharma_sponsors=non_pharma_sponsors['Sponsor'].value_counts().head(10).reset_index()\n",
    "tnon_pharma_sponsors.columns=['Sponsor','Frequency']\n",
    "print(tnon_pharma_sponsors)"
   ]
  },
  {
   "cell_type": "markdown",
   "metadata": {
    "id": "YbIeIQ4cVDPX"
   },
   "source": [
    "## Monthly Completion Analysis for 2021\n",
    "\n",
    "The analysis aimed to visualize the number of completed studies each month in the year 2021 within the clinical trials dataset. The data was processed and presented as follows:"
   ]
  },
  {
   "cell_type": "code",
   "execution_count": 40,
   "metadata": {
    "id": "cYXXo827VDPX",
    "outputId": "c770d015-dcd3-496d-8e3b-2e304916c941"
   },
   "outputs": [
    {
     "name": "stdout",
     "output_type": "stream",
     "text": [
      "   Month  Completed Studies\n",
      "0    1.0               1131\n",
      "1    2.0                934\n",
      "2    3.0               1227\n",
      "3    4.0                967\n",
      "4    5.0                984\n",
      "5    6.0               1094\n",
      "6    7.0                819\n",
      "7    8.0                700\n",
      "8    9.0                528\n",
      "9   10.0                187\n"
     ]
    },
    {
     "data": {
      "image/png": "[encoded data removed]",
      "text/plain": [
       "<Figure size 1000x600 with 1 Axes>"
      ]
     },
     "metadata": {},
     "output_type": "display_data"
    }
   ],
   "source": [
    "import seaborn as sns\n",
    "import matplotlib.pyplot as plt\n",
    "completed_studies2021=df1[df1['Status']=='Completed'].copy()\n",
    "completed_studies2021['Year']=completed_studies2021['Completion'].dt.year\n",
    "completed_studies2021['Month']=completed_studies2021['Completion'].dt.month\n",
    "\n",
    "monthly_completion=completed_studies2021[completed_studies2021['Year']==2021]['Month'].value_counts().sort_index().reset_index()\n",
    "monthly_completion.columns=['Month','Completed Studies']\n",
    "print(monthly_completion)\n",
    "\n",
    "sns.set_palette(\"pastel\")\n",
    "plt.figure(figsize=(10,6))\n",
    "sns.barplot(x='Month',y='Completed Studies',hue='Month',data=monthly_completion,palette='pastel',dodge=False)\n",
    "plt.xlabel('Month')\n",
    "plt.ylabel('Number of Completed Studies')\n",
    "plt.title('Number of Completed Studies Each Month in 2021')\n",
    "plt.xticks(ticks=range(12),labels=['Jan','Feb','Mar','Apr','May','Jun','Jul','Aug','Sep','Oct','Nov','Dec'])\n",
    "plt.legend([], [], frameon=False)\n",
    "plt.show()"
   ]
  }
 ],
 "metadata": {
  "colab": {
   "provenance": []
  },
  "kernelspec": {
   "display_name": "Python 3 (ipykernel)",
   "language": "python",
   "name": "python3"
  },
  "language_info": {
   "codemirror_mode": {
    "name": "ipython",
    "version": 3
   },
   "file_extension": ".py",
   "mimetype": "text/x-python",
   "name": "python",
   "nbconvert_exporter": "python",
   "pygments_lexer": "ipython3",
   "version": "3.12.3"
  }
 },
 "nbformat": 4,
 "nbformat_minor": 4
}
